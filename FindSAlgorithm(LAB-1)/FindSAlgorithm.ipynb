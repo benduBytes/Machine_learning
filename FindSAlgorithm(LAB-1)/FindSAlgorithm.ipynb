{
 "cells": [
  {
   "cell_type": "code",
   "execution_count": 3,
   "id": "02441918-9fe0-4442-8038-178333806b23",
   "metadata": {},
   "outputs": [
    {
     "name": "stdout",
     "output_type": "stream",
     "text": [
      "\n",
      " The Given Training Data Set \n",
      "\n",
      "['sunny', 'warm', 'normal', 'strong', 'warm', 'same', 'yes']\n",
      "['sunny', 'warm', 'high', 'strong', 'warm', 'same', 'yes']\n",
      "['rainy', 'cold', 'high', 'strong', 'warm', 'change', 'no']\n",
      "['sunny', 'warm', 'high', 'strong', 'cool', 'change', 'yes']\n",
      "\n",
      " The Maximally Specific Hypothesis for the given Training Examples :\n",
      "\n",
      "['sunny', 'warm', '?', 'strong', '?', '?']\n"
     ]
    }
   ],
   "source": [
    "import csv\n",
    "\n",
    "def read_data(filename):\n",
    "    data = []\n",
    "    with open(filename, 'r') as csvfile:\n",
    "        reader = csv.reader(csvfile)\n",
    "        for row in reader:\n",
    "            data.append([item.strip().lower() for item in row])\n",
    "    return data\n",
    "\n",
    "def find_s_algorithm(data):\n",
    "    num_attributes = len(data[0]) - 1\n",
    "    hypothesis = ['0'] * num_attributes\n",
    "\n",
    "    for instance in data:\n",
    "        if instance[-1] == 'yes':\n",
    "            for i in range(num_attributes):\n",
    "                if hypothesis[i] == '0':\n",
    "                    hypothesis[i] = instance[i]\n",
    "                elif hypothesis[i] != instance[i]:\n",
    "                    hypothesis[i] = '?'\n",
    "    return hypothesis\n",
    "\n",
    "# Input data file path\n",
    "# Read the dataset\n",
    "data = read_data('finds.csv')\n",
    "\n",
    "# Print the training data\n",
    "print(\"\\n The Given Training Data Set \\n\")\n",
    "for row in data:\n",
    "    print(row)\n",
    "\n",
    "# Apply the Find-S algorithm\n",
    "hypothesis = find_s_algorithm(data)\n",
    "\n",
    "# Output the final hypothesis\n",
    "print(\"\\n The Maximally Specific Hypothesis for the given Training Examples :\\n\")\n",
    "print(hypothesis)\n"
   ]
  },
  {
   "cell_type": "code",
   "execution_count": null,
   "id": "8fbf093f-fc0f-4e51-9d3f-2711aac5b072",
   "metadata": {},
   "outputs": [],
   "source": []
  }
 ],
 "metadata": {
  "kernelspec": {
   "display_name": "Python 3 (ipykernel)",
   "language": "python",
   "name": "python3"
  },
  "language_info": {
   "codemirror_mode": {
    "name": "ipython",
    "version": 3
   },
   "file_extension": ".py",
   "mimetype": "text/x-python",
   "name": "python",
   "nbconvert_exporter": "python",
   "pygments_lexer": "ipython3",
   "version": "3.11.7"
  }
 },
 "nbformat": 4,
 "nbformat_minor": 5
}
