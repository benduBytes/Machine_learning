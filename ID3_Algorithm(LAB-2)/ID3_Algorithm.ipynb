{
 "cells": [
  {
   "cell_type": "code",
   "execution_count": 1,
   "id": "1a534006-d506-46ac-9a55-0ea031492cc9",
   "metadata": {},
   "outputs": [
    {
     "name": "stdout",
     "output_type": "stream",
     "text": [
      "\n",
      "Display Tree\n",
      " {'outlook': {'Outlook': 'Play Tennis', 'Overcast': 'Yes', 'Rain': {'wind': {'Strong': 'No', 'Weak': 'Yes'}}, 'Sunny': {'humidity': {'High': 'No', 'Normal': 'Yes'}}}}\n"
     ]
    }
   ],
   "source": [
    "import pandas as pd\n",
    "import numpy as np\n",
    "\n",
    "# Load dataset\n",
    "dataset = pd.read_csv('playtennis.csv', names=['outlook', 'temperature', 'humidity', 'wind', 'class'])\n",
    "\n",
    "# Function to calculate entropy\n",
    "def entropy(target_col):\n",
    "    elements, counts = np.unique(target_col, return_counts=True)\n",
    "    entropy = np.sum([(-counts[i]/np.sum(counts)) * np.log2(counts[i]/np.sum(counts)) for i in range(len(elements))])\n",
    "    return entropy\n",
    "\n",
    "# Function to calculate information gain\n",
    "def InfoGain(data, split_attribute_name, target_name=\"class\"):\n",
    "    total_entropy = entropy(data[target_name])\n",
    "    vals, counts = np.unique(data[split_attribute_name], return_counts=True)\n",
    "    Weighted_Entropy = np.sum([(counts[i]/np.sum(counts)) * entropy(data.where(data[split_attribute_name] == vals[i]).dropna()[target_name]) for i in range(len(vals))])\n",
    "    Information_Gain = total_entropy - Weighted_Entropy\n",
    "    return Information_Gain\n",
    "\n",
    "# Function to implement ID3 algorithm\n",
    "def ID3(data, originaldata, features, target_attribute_name=\"class\", parent_node_class=None):\n",
    "    # If all target values have the same value, return that value\n",
    "    if len(np.unique(data[target_attribute_name])) <= 1:\n",
    "        return np.unique(data[target_attribute_name])[0]\n",
    "    \n",
    "    # If the dataset is empty, return the mode of the original target feature\n",
    "    elif len(data) == 0:\n",
    "        return np.unique(originaldata[target_attribute_name])[np.argmax(np.unique(originaldata[target_attribute_name], return_counts=True)[1])]\n",
    "    \n",
    "    # If there are no more features, return the parent node class\n",
    "    elif len(features) == 0:\n",
    "        return parent_node_class\n",
    "    \n",
    "    # Otherwise, grow the tree\n",
    "    else:\n",
    "        # Set the default parent node class to the mode of the target feature\n",
    "        parent_node_class = np.unique(data[target_attribute_name])[np.argmax(np.unique(data[target_attribute_name], return_counts=True)[1])]\n",
    "        \n",
    "        # Compute the information gain for each feature\n",
    "        item_values = [InfoGain(data, feature, target_attribute_name) for feature in features]\n",
    "        \n",
    "        # Select the feature with the highest information gain\n",
    "        best_feature_index = np.argmax(item_values)\n",
    "        best_feature = features[best_feature_index]\n",
    "        \n",
    "        # Create the tree structure\n",
    "        tree = {best_feature: {}}\n",
    "        \n",
    "        # Remove the best feature from the list of features\n",
    "        features = [i for i in features if i != best_feature]\n",
    "        \n",
    "        # Grow the tree recursively\n",
    "        for value in np.unique(data[best_feature]):\n",
    "            sub_data = data.where(data[best_feature] == value).dropna()\n",
    "            subtree = ID3(sub_data, dataset, features, target_attribute_name, parent_node_class)\n",
    "            tree[best_feature][value] = subtree\n",
    "        \n",
    "        return tree\n",
    "\n",
    "# Build the tree\n",
    "tree = ID3(dataset, dataset, dataset.columns[:-1])\n",
    "\n",
    "# Display the tree\n",
    "print('\\nDisplay Tree\\n', tree)\n"
   ]
  },
  {
   "cell_type": "code",
   "execution_count": null,
   "id": "32119f90-31f3-45f2-8b49-9bd5aef202f9",
   "metadata": {},
   "outputs": [],
   "source": []
  }
 ],
 "metadata": {
  "kernelspec": {
   "display_name": "Python 3 (ipykernel)",
   "language": "python",
   "name": "python3"
  },
  "language_info": {
   "codemirror_mode": {
    "name": "ipython",
    "version": 3
   },
   "file_extension": ".py",
   "mimetype": "text/x-python",
   "name": "python",
   "nbconvert_exporter": "python",
   "pygments_lexer": "ipython3",
   "version": "3.11.7"
  }
 },
 "nbformat": 4,
 "nbformat_minor": 5
}
